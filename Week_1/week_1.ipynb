{
 "cells": [
  {
   "cell_type": "code",
   "execution_count": 9,
   "metadata": {
    "collapsed": false,
    "scrolled": true
   },
   "outputs": [
    {
     "data": {
      "image/png": "[encoded data removed]",
      "text/plain": [
       "Console does not support images"
      ]
     },
     "metadata": {
      "image/png": {
       "height": 578,
       "width": 204
      }
     },
     "output_type": "display_data"
    }
   ],
   "source": [
    "require 'torch'\n",
    "require 'image'\n",
    "require 'nn'\n",
    "-- load data\n",
    "mnist_raw = torch.load('mnist.t7/train_32x32.t7', 'ascii')\n",
    "-- some samples\n",
    "itorch.image(mnist_raw.data[{{1, 100}}])"
   ]
  },
  {
   "cell_type": "code",
   "execution_count": null,
   "metadata": {
    "collapsed": true
   },
   "outputs": [],
   "source": []
  },
  {
   "cell_type": "code",
   "execution_count": 26,
   "metadata": {
    "collapsed": false
   },
   "outputs": [
    {
     "data": {
      "text/plain": [
       "6\t\n"
      ]
     },
     "execution_count": 26,
     "metadata": {},
     "output_type": "execute_result"
    },
    {
     "data": {
      "image/png": "[encoded data removed]",
      "text/plain": [
       "Console does not support images"
      ]
     },
     "metadata": {
      "image/png": {
       "height": 32,
       "width": 32
      }
     },
     "output_type": "display_data"
    }
   ],
   "source": [
    "d1 = mnist_raw.data[1]\n",
    "l1 = mnist_raw.labels[1]\n",
    "itorch.image(d1)\n",
    "print(l1)"
   ]
  },
  {
   "cell_type": "code",
   "execution_count": 27,
   "metadata": {
    "collapsed": true
   },
   "outputs": [],
   "source": [
    "-- load pre-trained model (trained on the whole dataset size == 60000)\n",
    "model = torch.load('logs/convnet.net')"
   ]
  },
  {
   "cell_type": "code",
   "execution_count": 28,
   "metadata": {
    "collapsed": false
   },
   "outputs": [
    {
     "data": {
      "text/plain": [
       "nn.Sequential {\n",
       "  [input -> (1) -> (2) -> (3) -> (4) -> (5) -> (6) -> (7) -> (8) -> (9) -> (10) -> (11) -> (12) -> output]\n",
       "  (1): nn.SpatialConvolutionMM(in: 1, out: 6, kW: 5, kH: 5)\n",
       "  (2): nn.Tanh\n",
       "  (3): nn.SpatialMaxPooling(kW: 2, kH: 2, dW: 2, dH: 2)\n",
       "  (4): nn.SpatialConvolutionMap\n",
       "  (5): nn.Tanh\n",
       "  (6): nn.SpatialMaxPooling(kW: 2, kH: 2, dW: 2, dH: 2)\n",
       "  (7): nn.SpatialConvolutionMM(in: 16, out: 120, kW: 5, kH: 5)\n",
       "  (8): nn.Reshape(120)\n",
       "  (9): nn.Linear(120 -> 84)\n",
       "  (10): nn.Tanh\n",
       "  (11): nn.Linear(84 -> 10)\n",
       "  (12): nn.LogSoftMax\n",
       "}\n",
       "{\n",
       "  gradInput : FloatTensor - size: 10x1x32x32\n",
       "  modules : \n",
       "    {\n",
       "      1 : \n",
       "        nn.SpatialConvolutionMM(in: 1, out: 6, kW: 5, kH: 5)\n",
       "        {\n",
       "          dH : 1\n",
       "          dW : 1\n",
       "          nOutputPlane : 6\n",
       "          output : FloatTensor - size: 10x6x28x28\n",
       "          gradInput : FloatTensor - size: 10x1x32x32\n",
       "          finput : FloatTensor - size: 10x25x784\n",
       "          kW : 5\n",
       "          kH : 5\n",
       "          weight : FloatTensor - size: 6x25\n",
       "          nInputPlane : 1\n",
       "          gradWeight : FloatTensor - size: 6x25\n",
       "          padding : 0\n",
       "          bias : FloatTensor - size: 6\n",
       "          gradBias : FloatTensor - size: 6\n",
       "          fgradInput : FloatTensor - size: 10x25x784\n",
       "        }\n",
       "      2 : \n",
       "        nn.Tanh\n",
       "        {\n",
       "          gradInput : FloatTensor - size: 10x6x28x28\n",
       "          output : FloatTensor - size: 10x6x28x28\n",
       "        }\n",
       "      3 : \n",
       "        nn.SpatialMaxPooling(kW: 2, kH: 2, dW: 2, dH: 2)\n",
       "        {\n"
      ]
     },
     "execution_count": 28,
     "metadata": {},
     "output_type": "execute_result"
    },
    {
     "data": {
      "text/plain": [
       "          dH : 2\n",
       "          dW : 2\n",
       "          kW : 2\n",
       "          gradInput : FloatTensor - size: 10x6x28x28\n",
       "          kH : 2\n",
       "          output : FloatTensor - size: 10x6x14x14\n",
       "          indices : FloatTensor - size: 2x10x6x14x14\n",
       "        }\n",
       "      4 : \n",
       "        nn.SpatialConvolutionMap\n",
       "        {\n",
       "          dH : 1\n",
       "          dW : 1\n",
       "          nInputPlane : 6\n",
       "          kW : 5\n",
       "          gradInput : FloatTensor - size: 10x6x14x14\n",
       "          connTable : FloatTensor - size: 64x2\n",
       "          weight : FloatTensor - size: 64x5x5\n",
       "          output : FloatTensor - size: 10x16x10x10\n",
       "          gradWeight : FloatTensor - size: 64x5x5\n",
       "          kH : 5\n",
       "          nOutputPlane : 16\n",
       "          bias : FloatTensor - size: 16\n",
       "          gradBias : FloatTensor - size: 16\n",
       "        }\n",
       "      5 : \n"
      ]
     },
     "execution_count": 28,
     "metadata": {},
     "output_type": "execute_result"
    },
    {
     "data": {
      "text/plain": [
       "        nn.Tanh\n",
       "        {\n",
       "          gradInput : FloatTensor - size: 10x16x10x10\n",
       "          output : FloatTensor - size: 10x16x10x10\n",
       "        }\n",
       "      6 : \n",
       "        nn.SpatialMaxPooling(kW: 2, kH: 2, dW: 2, dH: 2)\n",
       "        {\n",
       "          dH : 2\n",
       "          dW : 2\n",
       "          kW : 2\n",
       "          gradInput : FloatTensor - size: 10x16x10x10\n",
       "          kH : 2\n",
       "          output : FloatTensor - size: 10x16x5x5\n",
       "          indices : FloatTensor - size: 2x10x16x5x5\n",
       "        }\n",
       "      7 : \n",
       "        nn.SpatialConvolutionMM(in: 16, out: 120, kW: 5, kH: 5)\n",
       "        {\n",
       "          dH : 1\n",
       "          dW : 1\n",
       "          nOutputPlane : 120\n",
       "          output : FloatTensor - size: 10x120x1x1\n",
       "          gradInput : FloatTensor - size: 10x16x5x5\n",
       "          finput : FloatTensor - size: 10x400x1\n",
       "          kW : 5\n",
       "          kH : 5\n",
       "          weight : FloatTensor - size: 120x400\n",
       "          nInputPlane : 16\n"
      ]
     },
     "execution_count": 28,
     "metadata": {},
     "output_type": "execute_result"
    },
    {
     "data": {
      "text/plain": [
       "          gradWeight : FloatTensor - size: 120x400\n",
       "          padding : 0\n",
       "      "
      ]
     },
     "execution_count": 28,
     "metadata": {},
     "output_type": "execute_result"
    },
    {
     "data": {
      "text/plain": [
       "    bias : FloatTensor - size: 120\n",
       "          gradBias : FloatTensor - size: 120\n",
       "          fgradInput : FloatTensor - size: 10x400x1\n",
       "        }\n",
       "      8 : \n",
       "        nn.Reshape(120)\n",
       "        {\n",
       "          batchsize : LongStorage - size: 2\n",
       "          size : LongStorage - size: 1\n",
       "          output : FloatTensor - size: 10x120\n",
       "          gradInput : FloatTensor - size: 10x120x1x1\n",
       "          nelement : 120\n",
       "          _gradOutput : FloatTensor - empty\n",
       "          _input : FloatTensor - empty\n",
       "        }\n",
       "      9 : \n",
       "        nn.Linear(120 -> 84)\n",
       "        {\n",
       "          gradBias : FloatTensor - size: 84\n",
       "          weight : FloatTensor - size: 84x120\n",
       "          bias : FloatTensor - size: 84\n",
       "          gradInput : FloatTensor - size: 10x120\n",
       "          output : FloatTensor - size: 10x84\n",
       "          gradWeight : FloatTensor - size: 84x120\n",
       "          addBuffer : FloatTensor - size: 10\n",
       "        }\n",
       "      10 : \n",
       "        nn.Tanh\n",
       "        {\n"
      ]
     },
     "execution_count": 28,
     "metadata": {},
     "output_type": "execute_result"
    },
    {
     "data": {
      "text/plain": [
       "          gradInput : FloatTensor - size: 10x84\n",
       "          output : FloatTensor - size: 10x84\n",
       "        }\n",
       "      11 : \n",
       "        nn.Linear(84 -> 10)\n",
       "        {\n",
       "          gradBias : FloatTensor - size: 10\n",
       "          weight : FloatTensor - size: 10x84\n",
       "          bias : FloatTensor - size: 10\n",
       "          gradInput : FloatTensor - size: 10x84\n",
       "          output : FloatTensor - size: 10x10\n",
       "          gradWeight : FloatTensor - size: 10x84\n",
       "          addBuffer : FloatTensor - size: 10\n",
       "        }\n",
       "      12 : \n",
       "        nn.LogSoftMax\n",
       "        {\n",
       "          gradInput : FloatTensor - size: 10x10\n",
       "          output : FloatTensor - size: 10x10\n",
       "        }\n",
       "    }\n",
       "  output : FloatTensor - size: 10x10\n",
       "}\n"
      ]
     },
     "execution_count": 28,
     "metadata": {},
     "output_type": "execute_result"
    }
   ],
   "source": [
    "-- inspect the model layers\n",
    "model"
   ]
  },
  {
   "cell_type": "code",
   "execution_count": 8,
   "metadata": {
    "collapsed": false
   },
   "outputs": [],
   "source": [
    "require 'optim'\n",
    "-- this is inferred, i.e. the order\n",
    "classes = {'0','1','2','3','4','5','6','7','8','9'}\n",
    "confusion = optim.ConfusionMatrix(classes)\n",
    "incorrect = {}\n",
    "function test(dataset, test_model)\n",
    "   -- local vars\n",
    "   local model = test_model:clone()\n",
    "   local time = sys.clock()\n",
    "\n",
    "   -- test over given dataset\n",
    "   print('<trainer> on testing Set:')\n",
    "      -- disp progress\n",
    "      -- create mini batch\n",
    "      local inputs = torch.Tensor(10000,1,32,32)\n",
    "      local targets = torch.Tensor(10000)\n",
    "      for i = 1, 10000 do\n",
    "         -- load new sample\n",
    "         local input = dataset.data[i]:float()\n",
    "         local target = dataset.labels[i] \n",
    "         inputs[i] = input\n",
    "         targets[i] = target\n",
    "      end\n",
    "\n",
    "      local preds = model:forward(inputs:float())\n",
    "     -- confusion:\n",
    "     for i = 1, 10000 do\n",
    "        confusion:add(preds[i], targets[i])\n",
    "     end\n",
    "\n",
    "   -- timing\n",
    "   time = sys.clock() - time\n",
    "   time = time / 10000\n",
    "   print(\"<trainer> time to test 1 sample = \" .. (time*1000) .. 'ms')\n",
    "\n",
    "   -- print confusion matrix\n",
    "   print(confusion)\n",
    "end"
   ]
  },
  {
   "cell_type": "code",
   "execution_count": 30,
   "metadata": {
    "collapsed": false
   },
   "outputs": [],
   "source": [
    "-- testing without pre-processing, should do normalization\n",
    "testData = torch.load('mnist.t7/test_32x32.t7', 'ascii')\n",
    "dataset = testData.data"
   ]
  },
  {
   "cell_type": "code",
   "execution_count": 31,
   "metadata": {
    "collapsed": false
   },
   "outputs": [
    {
     "data": {
      "text/plain": [
       "<trainer> on testing Set:\t\n"
      ]
     },
     "execution_count": 31,
     "metadata": {},
     "output_type": "execute_result"
    },
    {
     "data": {
      "text/plain": [
       "<trainer> time to test 1 sample = 0.38549139499664ms\t\n"
      ]
     },
     "execution_count": 31,
     "metadata": {},
     "output_type": "execute_result"
    },
    {
     "data": {
      "text/plain": [
       "ConfusionMatrix:\n",
       "[[     965       0       0       0       5       0       2       0       4       4]   98.469% \t[class: 0]\n",
       " [       3     487       1       1     226       1       7       0     408       1]   42.907% \t[class: 1]\n",
       " [      21       2     843       6      12       0       1       0     147       0]   81.686% \t[class: 2]\n",
       " [       2       0       3     893       7      25       0       3      55      22]   88.416% \t[class: 3]\n",
       " [       4       0       0       1     958       3       3       0       3      10]   97.556% \t[class: 4]\n",
       " [       8       0       0      19       3     785       7       0      55      15]   88.004% \t[class: 5]\n",
       " [       9       0       0       1       4       9     918       0      17       0]   95.825% \t[class: 6]\n",
       " [      28       3     117      15      76       7       0     322      97     363]   31.323% \t[class: 7]\n",
       " [       3       0       2       0       6       1       0       0     958       4]   98.357% \t[class: 8]\n",
       " [       4       0       0       0      48       6       0       0      35     916]]  90.783% \t[class: 9]\n",
       " + average row correct: 81.332708597183% \n",
       " + average rowUcol correct (VOC measure): 68.712577223778% \n",
       " + global correct: 80.45%\n",
       "{\n",
       "  valids : FloatTensor - size: 10\n",
       "  mat : FloatTensor - size: 10x10\n",
       "  averageUnionValid : 0.68712577223778\n",
       "  _targ_idx : LongTensor - empty\n",
       "  averageValid : 0.81332708597183\n",
       "  classes : \n",
       "    {\n",
       "      1 : 0\n",
       "      2 : 1\n",
       "      3 : 2\n",
       "      4 : 3\n",
       "      5 : 4\n",
       "      6 : 5\n",
       "      7 : 6\n",
       "      8 : 7\n",
       "      9 : 8\n",
       "      10 : 9\n",
       "    }\n",
       "  _prediction : FloatTensor - size: 10\n",
       "  _pred_idx : LongTensor - size: 1\n",
       "  nclasses : 10\n",
       "  _max : FloatTensor - size: 1\n",
       "  _target : FloatTensor - empty\n",
       "  unionvalids : FloatTensor - size: 10\n",
       "  totalValid : 0.8045\n",
       "}\n",
       "\n"
      ]
     },
     "execution_count": 31,
     "metadata": {},
     "output_type": "execute_result"
    }
   ],
   "source": [
    "test(testData, model)"
   ]
  },
  {
   "cell_type": "code",
   "execution_count": 8,
   "metadata": {
    "collapsed": true
   },
   "outputs": [],
   "source": [
    "function inferenceAnswer(img)\n",
    "    model:forward(img)\n",
    "    prob, target = model:forward(img:float()):max(1)\n",
    "    target = target:squeeze()\n",
    "    return target\n",
    "end\n",
    "    "
   ]
  },
  {
   "cell_type": "code",
   "execution_count": 9,
   "metadata": {
    "collapsed": true
   },
   "outputs": [],
   "source": [
    "d1 = testData.data[1]"
   ]
  },
  {
   "cell_type": "code",
   "execution_count": 10,
   "metadata": {
    "collapsed": false
   },
   "outputs": [
    {
     "data": {
      "image/png": "[encoded data removed]",
      "text/plain": [
       "Console does not support images"
      ]
     },
     "metadata": {
      "image/png": {
       "height": 32,
       "width": 32
      }
     },
     "output_type": "display_data"
    }
   ],
   "source": [
    "itorch.image(d1)"
   ]
  },
  {
   "cell_type": "code",
   "execution_count": 11,
   "metadata": {
    "collapsed": true
   },
   "outputs": [],
   "source": [
    "l1 = testData.labels[1]"
   ]
  },
  {
   "cell_type": "code",
   "execution_count": 12,
   "metadata": {
    "collapsed": false
   },
   "outputs": [
    {
     "data": {
      "text/plain": [
       "8\t\n"
      ]
     },
     "execution_count": 12,
     "metadata": {},
     "output_type": "execute_result"
    }
   ],
   "source": [
    "l1"
   ]
  },
  {
   "cell_type": "code",
   "execution_count": 13,
   "metadata": {
    "collapsed": false
   },
   "outputs": [
    {
     "data": {
      "text/plain": [
       "8\t\n"
      ]
     },
     "execution_count": 13,
     "metadata": {},
     "output_type": "execute_result"
    }
   ],
   "source": [
    "inferenceAnswer(d1:float())"
   ]
  },
  {
   "cell_type": "code",
   "execution_count": 14,
   "metadata": {
    "collapsed": false
   },
   "outputs": [
    {
     "data": {
      "image/png": "[encoded data removed]",
      "text/plain": [
       "Console does not support images"
      ]
     },
     "metadata": {
      "image/png": {
       "height": 32,
       "width": 32
      }
     },
     "output_type": "display_data"
    },
    {
     "data": {
      "text/plain": [
       "the actual label is (-1)\t2\t\n"
      ]
     },
     "execution_count": 14,
     "metadata": {},
     "output_type": "execute_result"
    },
    {
     "data": {
      "text/plain": [
       "the inferred label is \t5\t\n"
      ]
     },
     "execution_count": 14,
     "metadata": {},
     "output_type": "execute_result"
    }
   ],
   "source": [
    "d3 = testData.data[3]\n",
    "l3 = testData.labels[3]\n",
    "itorch.image(d3)\n",
    "print(\"the actual label is (-1)\", l3)\n",
    "print(\"the inferred label is \", inferenceAnswer(d3:float()))"
   ]
  },
  {
   "cell_type": "code",
   "execution_count": 35,
   "metadata": {
    "collapsed": false
   },
   "outputs": [
    {
     "data": {
      "text/plain": [
       "<mnist> done\t\n"
      ]
     },
     "execution_count": 35,
     "metadata": {},
     "output_type": "execute_result"
    },
    {
     "data": {
      "text/plain": [
       "<trainer> on testing Set:\t\n"
      ]
     },
     "execution_count": 35,
     "metadata": {},
     "output_type": "execute_result"
    },
    {
     "data": {
      "text/plain": [
       "<trainer> time to test 1 sample = 0.99382219314575ms\t\n"
      ]
     },
     "execution_count": 35,
     "metadata": {},
     "output_type": "execute_result"
    },
    {
     "data": {
      "text/plain": [
       "ConfusionMatrix:\n",
       "[[    2919       0       0       0       5       0       3       1       8       4]   99.286% \t[class: 0]\n",
       " [      21    2620       7      10     261       3      14       0     468       1]   76.946% \t[class: 1]\n",
       " [      57      11    2793      25      16       0       6       4     183       1]   90.213% \t[class: 2]\n",
       " [       7       0       9    2855       7      56       1       7      65      23]   94.224% \t[class: 3]\n",
       " [       7       0       1       1    2896       3      10       3       6      19]   98.303% \t[class: 4]\n",
       " [      12       0       0      34       5    2523      20       3      62      17]   94.283% \t[class: 5]\n",
       " [      49       7       2       1       8      24    2765       0      18       0]   96.207% \t[class: 6]\n",
       " [      59      12     148      21     119       8       1    2214     106     396]   71.790% \t[class: 7]\n",
       " [      10       0       9       4      16      15       6       2    2845      15]   97.365% \t[class: 8]\n",
       " [      17       1       2       2     159      15       1       5      53    2772]]  91.576% \t[class: 9]\n",
       " + average row correct: 91.019217967987% \n",
       " + average rowUcol correct (VOC measure): 83.416048884392% \n",
       " + global correct: 90.673333333333%\n",
       "{\n",
       "  valids : FloatTensor - size: 10\n",
       "  mat : FloatTensor - size: 10x10\n",
       "  averageUnionValid : 0.83416048884392\n",
       "  _targ_idx : LongTensor - empty\n",
       "  averageValid : 0.91019217967987\n",
       "  classes : \n",
       "    {\n",
       "      1 : 0\n",
       "      2 : 1\n",
       "      3 : 2\n",
       "      4 : 3\n",
       "      5 : 4\n",
       "      6 : 5\n",
       "      7 : 6\n",
       "      8 : 7\n",
       "      9 : 8\n",
       "      10 : 9\n",
       "    }\n",
       "  _prediction : FloatTensor - size: 10\n",
       "  _pred_idx : LongTensor - size: 1\n",
       "  nclasses : 10\n",
       "  _max : FloatTensor - size: 1\n",
       "  _target : FloatTensor - empty\n",
       "  unionvalids : FloatTensor - size: 10\n",
       "  totalValid : 0.90673333333333\n",
       "}\n"
      ]
     },
     "execution_count": 35,
     "metadata": {},
     "output_type": "execute_result"
    }
   ],
   "source": [
    "-- test the accuracy after normalization\n",
    "require 'dataset-mnist'\n",
    "testData = mnist.loadTestSet(10000, {32, 32})\n",
    "testData:normalizeGlobal()\n",
    "test(testData, model)"
   ]
  },
  {
   "cell_type": "code",
   "execution_count": 16,
   "metadata": {
    "collapsed": false
   },
   "outputs": [
    {
     "data": {
      "image/png": "[encoded data removed]",
      "text/plain": [
       "Console does not support images"
      ]
     },
     "metadata": {
      "image/png": {
       "height": 32,
       "width": 32
      }
     },
     "output_type": "display_data"
    },
    {
     "data": {
      "text/plain": [
       "the actual label is (-1)\t2\t\n"
      ]
     },
     "execution_count": 16,
     "metadata": {},
     "output_type": "execute_result"
    },
    {
     "data": {
      "text/plain": [
       "the inferred label is \t2\t\n"
      ]
     },
     "execution_count": 16,
     "metadata": {},
     "output_type": "execute_result"
    }
   ],
   "source": [
    "d3 = testData.data[3]\n",
    "l3 = testData.labels[3]\n",
    "itorch.image(d3)\n",
    "print(\"the actual label is (-1)\", l3)\n",
    "print(\"the inferred label is \", inferenceAnswer(d3:float()))"
   ]
  },
  {
   "cell_type": "code",
   "execution_count": 17,
   "metadata": {
    "collapsed": false,
    "scrolled": false
   },
   "outputs": [
    {
     "data": {
      "text/plain": [
       "the image\t\n"
      ]
     },
     "execution_count": 17,
     "metadata": {},
     "output_type": "execute_result"
    },
    {
     "data": {
      "image/png": "[encoded data removed]",
      "text/plain": [
       "Console does not support images"
      ]
     },
     "metadata": {
      "image/png": {
       "height": 32,
       "width": 32
      }
     },
     "output_type": "display_data"
    },
    {
     "data": {
      "text/plain": [
       "the actual label is \t1\t\n"
      ]
     },
     "execution_count": 17,
     "metadata": {},
     "output_type": "execute_result"
    },
    {
     "data": {
      "text/plain": [
       "ConfusionMatrix:\n",
       "[[       1       0       0       0       0       0       0       0       0       0]   100.000% \t[class: 0]\n",
       " [       0       0       0       0       0       0       0       0       0       0]   nan% \t[class: 1]\n",
       " [       0       0       0       0       0       0       0       0       0       0]   nan% \t[class: 2]\n",
       " [       0       0       0       0       0       0       0       0       0       0]   nan% \t[class: 3]\n",
       " [       0       0       0       0       0       0       0       0       0       0]   nan% \t[class: 4]\n",
       " [       0       0       0       0       0       0       0       0       0       0]   nan% \t[class: 5]\n",
       " [       0       0       0       0       0       0       0       0       0       0]   nan% \t[class: 6]\n",
       " [       0       0       0       0       0       0       0       0       0       0]   nan% \t[class: 7]\n",
       " [       0       0       0       0       0       0       0       0       0       0]   nan% \t[class: 8]\n",
       " [       0       0       0       0       0       0       0       0       0       0]]  nan% \t[class: 9]\n",
       " + average row correct: 100% \n",
       " + average rowUcol correct (VOC measure): 100% \n",
       " + global correct: 100%\n",
       "{\n",
       "  valids : FloatTensor - size: 10\n"
      ]
     },
     "execution_count": 17,
     "metadata": {},
     "output_type": "execute_result"
    },
    {
     "data": {
      "text/plain": [
       "  mat : FloatTensor - size: 10x10\n",
       "  averageUnionValid : 1\n",
       "  _targ_idx : LongTensor - empty\n",
       "  averageValid : 1\n",
       "  classes : \n",
       "    {\n",
       "      1 : 0\n",
       "      2 : 1\n"
      ]
     },
     "execution_count": 17,
     "metadata": {},
     "output_type": "execute_result"
    },
    {
     "data": {
      "text/plain": [
       "      3 : 2\n",
       "      4 : 3\n",
       "      5 : 4\n",
       "      6 : 5\n",
       "      7 : 6\n",
       "      8 : 7\n",
       "      9 : 8\n",
       "      10 : 9\n",
       "    }\n",
       "  _prediction : FloatTensor - size: 10\n",
       "  _pred_idx : LongTensor - size: 1\n",
       "  nclasses : 10\n",
       "  _max : FloatTensor - size: 1\n",
       "  _target : FloatTensor - empty\n",
       "  unionvalids : FloatTensor - size: 10\n",
       "  totalValid : 1\n",
       "}\n"
      ]
     },
     "execution_count": 17,
     "metadata": {},
     "output_type": "execute_result"
    }
   ],
   "source": [
    "confusion2 = optim.ConfusionMatrix({0, 1, 2, 3, 4, 5, 6, 7, 8, 9})\n",
    "output = testData.data[4]\n",
    "print(\"the image\")\n",
    "itorch.image(output)\n",
    "l4 = testData.labels[4]\n",
    "print(\"the actual label is \", l4)\n",
    "confusion2:add(model:forward(output:float()), l4)\n",
    "print(confusion2)"
   ]
  },
  {
   "cell_type": "code",
   "execution_count": 18,
   "metadata": {
    "collapsed": false
   },
   "outputs": [
    {
     "data": {
      "image/png": "[encoded data removed]",
      "text/plain": [
       "Console does not support images"
      ]
     },
     "metadata": {
      "image/png": {
       "height": 32,
       "width": 32
      }
     },
     "output_type": "display_data"
    },
    {
     "data": {
      "text/plain": [
       "the actual label is, (-1)\t3\t\n",
       "the inferred label is, (-1)\t5\t\n"
      ]
     },
     "execution_count": 18,
     "metadata": {},
     "output_type": "execute_result"
    },
    {
     "data": {
      "image/png": "[encoded data removed]",
      "text/plain": [
       "Console does not support images"
      ]
     },
     "metadata": {
      "image/png": {
       "height": 32,
       "width": 32
      }
     },
     "output_type": "display_data"
    },
    {
     "data": {
      "text/plain": [
       "the actual label is, (-1)\t4\t\n",
       "the inferred label is, (-1)\t9\t\n"
      ]
     },
     "execution_count": 18,
     "metadata": {},
     "output_type": "execute_result"
    },
    {
     "data": {
      "text/plain": [
       "the actual label is, (-1)\t8\t\n",
       "the inferred label is, (-1)\t3\t\n"
      ]
     },
     "execution_count": 18,
     "metadata": {},
     "output_type": "execute_result"
    },
    {
     "data": {
      "image/png": "[encoded data removed]",
      "text/plain": [
       "Console does not support images"
      ]
     },
     "metadata": {
      "image/png": {
       "height": 32,
       "width": 32
      }
     },
     "output_type": "display_data"
    },
    {
     "data": {
      "image/png": "[encoded data removed]",
      "text/plain": [
       "Console does not support images"
      ]
     },
     "metadata": {
      "image/png": {
       "height": 32,
       "width": 32
      }
     },
     "output_type": "display_data"
    },
    {
     "data": {
      "text/plain": [
       "the actual label is, (-1)\t4\t\n",
       "the inferred label is, (-1)\t6\t\n"
      ]
     },
     "execution_count": 18,
     "metadata": {},
     "output_type": "execute_result"
    },
    {
     "data": {
      "text/plain": [
       "the actual label is, (-1)\t2\t\n",
       "the inferred label is, (-1)\t7\t\n"
      ]
     },
     "execution_count": 18,
     "metadata": {},
     "output_type": "execute_result"
    },
    {
     "data": {
      "image/png": "[encoded data removed]",
      "text/plain": [
       "Console does not support images"
      ]
     },
     "metadata": {
      "image/png": {
       "height": 32,
       "width": 32
      }
     },
     "output_type": "display_data"
    },
    {
     "data": {
      "image/png": "[encoded data removed]",
      "text/plain": [
       "Console does not support images"
      ]
     },
     "metadata": {
      "image/png": {
       "height": 32,
       "width": 32
      }
     },
     "output_type": "display_data"
    },
    {
     "data": {
      "text/plain": [
       "the actual label is, (-1)\t5\t\n",
       "the inferred label is, (-1)\t3\t\n"
      ]
     },
     "execution_count": 18,
     "metadata": {},
     "output_type": "execute_result"
    },
    {
     "data": {
      "image/png": "[encoded data removed]",
      "text/plain": [
       "Console does not support images"
      ]
     },
     "metadata": {
      "image/png": {
       "height": 32,
       "width": 32
      }
     },
     "output_type": "display_data"
    },
    {
     "data": {
      "text/plain": [
       "the actual label is, (-1)\t6\t\n",
       "the inferred label is, (-1)\t0\t\n"
      ]
     },
     "execution_count": 18,
     "metadata": {},
     "output_type": "execute_result"
    },
    {
     "data": {
      "image/png": "[encoded data removed]",
      "text/plain": [
       "Console does not support images"
      ]
     },
     "metadata": {
      "image/png": {
       "height": 32,
       "width": 32
      }
     },
     "output_type": "display_data"
    },
    {
     "data": {
      "text/plain": [
       "the actual label is, (-1)\t3\t\n",
       "the inferred label is, (-1)\t5\t\n"
      ]
     },
     "execution_count": 18,
     "metadata": {},
     "output_type": "execute_result"
    },
    {
     "data": {
      "text/plain": [
       "the actual label is, (-1)\t6\t\n",
       "the inferred label is, (-1)\t5\t\n"
      ]
     },
     "execution_count": 18,
     "metadata": {},
     "output_type": "execute_result"
    },
    {
     "data": {
      "image/png": "[encoded data removed]",
      "text/plain": [
       "Console does not support images"
      ]
     },
     "metadata": {
      "image/png": {
       "height": 32,
       "width": 32
      }
     },
     "output_type": "display_data"
    },
    {
     "data": {
      "image/png": "[encoded data removed]",
      "text/plain": [
       "Console does not support images"
      ]
     },
     "metadata": {
      "image/png": {
       "height": 32,
       "width": 32
      }
     },
     "output_type": "display_data"
    },
    {
     "data": {
      "text/plain": [
       "the actual label is, (-1)\t8\t\n",
       "the inferred label is, (-1)\t2\t\n"
      ]
     },
     "execution_count": 18,
     "metadata": {},
     "output_type": "execute_result"
    },
    {
     "data": {
      "image/png": "[encoded data removed]",
      "text/plain": [
       "Console does not support images"
      ]
     },
     "metadata": {
      "image/png": {
       "height": 32,
       "width": 32
      }
     },
     "output_type": "display_data"
    },
    {
     "data": {
      "text/plain": [
       "the actual label is, (-1)\t5\t\n",
       "the inferred label is, (-1)\t3\t\n"
      ]
     },
     "execution_count": 18,
     "metadata": {},
     "output_type": "execute_result"
    },
    {
     "data": {
      "text/plain": [
       "the actual label is, (-1)\t7\t\n",
       "the inferred label is, (-1)\t3\t\n"
      ]
     },
     "execution_count": 18,
     "metadata": {},
     "output_type": "execute_result"
    },
    {
     "data": {
      "image/png": "[encoded data removed]",
      "text/plain": [
       "Console does not support images"
      ]
     },
     "metadata": {
      "image/png": {
       "height": 32,
       "width": 32
      }
     },
     "output_type": "display_data"
    },
    {
     "data": {
      "image/png": "[encoded data removed]",
      "text/plain": [
       "Console does not support images"
      ]
     },
     "metadata": {
      "image/png": {
       "height": 32,
       "width": 32
      }
     },
     "output_type": "display_data"
    },
    {
     "data": {
      "text/plain": [
       "the actual label is, (-1)\t4\t\n",
       "the inferred label is, (-1)\t9\t\n"
      ]
     },
     "execution_count": 18,
     "metadata": {},
     "output_type": "execute_result"
    },
    {
     "data": {
      "image/png": "[encoded data removed]",
      "text/plain": [
       "Console does not support images"
      ]
     },
     "metadata": {
      "image/png": {
       "height": 32,
       "width": 32
      }
     },
     "output_type": "display_data"
    },
    {
     "data": {
      "text/plain": [
       "the actual label is, (-1)\t3\t\n",
       "the inferred label is, (-1)\t5\t\n"
      ]
     },
     "execution_count": 18,
     "metadata": {},
     "output_type": "execute_result"
    },
    {
     "data": {
      "text/plain": [
       "the actual label is, (-1)\t8\t\n",
       "the inferred label is, (-1)\t9\t\n"
      ]
     },
     "execution_count": 18,
     "metadata": {},
     "output_type": "execute_result"
    },
    {
     "data": {
      "image/png": "[encoded data removed]",
      "text/plain": [
       "Console does not support images"
      ]
     },
     "metadata": {
      "image/png": {
       "height": 32,
       "width": 32
      }
     },
     "output_type": "display_data"
    }
   ],
   "source": [
    "-- inspecting some mismatches\n",
    "for i = 1, 1000 do\n",
    "    img = testData.data[i]\n",
    "    l = testData.labels[i] -1 \n",
    "    guess = inferenceAnswer(img:float()) -1\n",
    "    if l ~= guess then\n",
    "        itorch.image(img)\n",
    "        print(\"the actual label is, (-1)\", l)\n",
    "        print(\"the inferred label is, (-1)\", guess)\n",
    "    end\n",
    "end"
   ]
  },
  {
   "cell_type": "code",
   "execution_count": 19,
   "metadata": {
    "collapsed": false
   },
   "outputs": [],
   "source": [
    "street_view_data = torch.load('Street_View.t7', 'ascii')"
   ]
  },
  {
   "cell_type": "code",
   "execution_count": 20,
   "metadata": {
    "collapsed": false
   },
   "outputs": [],
   "source": [
    "street_view_images = street_view_data.X\n",
    "street_view_labels = street_view_data.y"
   ]
  },
  {
   "cell_type": "code",
   "execution_count": 21,
   "metadata": {
    "collapsed": false
   },
   "outputs": [
    {
     "data": {
      "text/plain": [
       "\n"
      ]
     },
     "execution_count": 21,
     "metadata": {},
     "output_type": "execute_result"
    },
    {
     "data": {
      "image/png": "[encoded data removed]",
      "text/plain": [
       "Console does not support images"
      ]
     },
     "metadata": {
      "image/png": {
       "height": 374,
       "width": 204
      }
     },
     "output_type": "display_data"
    }
   ],
   "source": [
    "itorch.image(street_view_images[{{1, 64}}])"
   ]
  },
  {
   "cell_type": "code",
   "execution_count": 22,
   "metadata": {
    "collapsed": false
   },
   "outputs": [
    {
     "data": {
      "image/png": "[encoded data removed]",
      "text/plain": [
       "Console does not support images"
      ]
     },
     "metadata": {
      "image/png": {
       "height": 32,
       "width": 32
      }
     },
     "output_type": "display_data"
    },
    {
     "data": {
      "text/plain": [
       "convert rgb to y channel\t\n"
      ]
     },
     "execution_count": 22,
     "metadata": {},
     "output_type": "execute_result"
    },
    {
     "data": {
      "image/png": "[encoded data removed]",
      "text/plain": [
       "Console does not support images"
      ]
     },
     "metadata": {
      "image/png": {
       "height": 32,
       "width": 32
      }
     },
     "output_type": "display_data"
    },
    {
     "data": {
      "text/plain": [
       "the guess is \t9\t\n"
      ]
     },
     "execution_count": 22,
     "metadata": {},
     "output_type": "execute_result"
    },
    {
     "data": {
      "text/plain": [
       "print the whole vector\t-1.2888e+01\n",
       "-1.7471e+01\n",
       "-1.3733e+01\n",
       "-1.3893e+01\n",
       "-8.6277e+00\n",
       "-7.6607e+00\n",
       "-8.7658e+00\n",
       "-1.6337e+01\n",
       "-8.4822e-04\n",
       "-1.1376e+01\n",
       "[torch.FloatTensor of size 10]\n",
       "\n"
      ]
     },
     "execution_count": 22,
     "metadata": {},
     "output_type": "execute_result"
    }
   ],
   "source": [
    "street_four = street_view_images[20]\n",
    "itorch.image(street_four)\n",
    "-- in y channel\n",
    "print(\"convert rgb to y channel\")\n",
    "y_image = image.rgb2y(street_four)\n",
    "itorch.image(y_image)\n",
    "guessed_result = inferenceAnswer(y_image:float())\n",
    "print(\"the guess is \", guessed_result)\n",
    "print(\"print the whole vector\", model:forward(y_image:float()))"
   ]
  },
  {
   "cell_type": "code",
   "execution_count": 33,
   "metadata": {
    "collapsed": false
   },
   "outputs": [
    {
     "data": {
      "text/plain": [
       "nn.Sequential {\n",
       "  [input -> (1) -> (2) -> (3) -> (4) -> (5) -> (6) -> (7) -> (8) -> (9) -> (10) -> (11) -> (12) -> output]\n",
       "  (1): nn.SpatialConvolutionMM(in: 1, out: 6, kW: 5, kH: 5)\n",
       "  (2): nn.ReLU\n",
       "  (3): nn.SpatialMaxPooling(kW: 2, kH: 2, dW: 2, dH: 2)\n",
       "  (4): nn.SpatialConvolutionMap\n",
       "  (5): nn.ReLU\n",
       "  (6): nn.SpatialMaxPooling(kW: 2, kH: 2, dW: 2, dH: 2)\n",
       "  (7): nn.SpatialConvolutionMM(in: 16, out: 120, kW: 5, kH: 5)\n",
       "  (8): nn.Reshape(120)\n",
       "  (9): nn.Linear(120 -> 84)\n",
       "  (10): nn.ReLU\n",
       "  (11): nn.Linear(84 -> 10)\n",
       "  (12): nn.LogSoftMax\n",
       "}\n",
       "{\n",
       "  gradInput : FloatTensor - size: 10x1x32x32\n",
       "  modules : \n",
       "    {\n",
       "      1 : \n",
       "        nn.SpatialConvolutionMM(in: 1, out: 6, kW: 5, kH: 5)\n",
       "        {\n",
       "          dH : 1\n",
       "          dW : 1\n",
       "          nOutputPlane : 6\n",
       "          output : FloatTensor - size: 10x6x28x28\n",
       "          gradInput : FloatTensor - size: 10x1x32x32\n",
       "         "
      ]
     },
     "execution_count": 33,
     "metadata": {},
     "output_type": "execute_result"
    },
    {
     "data": {
      "text/plain": [
       " finput : FloatTensor - size: 10x25x784\n",
       "          kW : 5\n",
       "          kH : 5\n",
       "          weight : FloatTensor - size: 6x25\n",
       "          nInputPlane : 1\n",
       "          gradWeight : FloatTensor - size: 6x25\n",
       "          padding : 0\n",
       "          bias : FloatTensor - size: 6\n",
       "          gradBias : FloatTensor - size: 6\n",
       "          fgradInput : FloatTensor - size: 10x25x784\n",
       "        }\n",
       "      2 : \n",
       "        nn.ReLU\n",
       "        {\n",
       "          inplace : false\n",
       "          threshold : 0\n",
       "          val : 0\n",
       "          output : FloatTensor - size: 10x6x28x28\n",
       "          gradInput : FloatTensor - size: 10x6x28x28\n",
       "        }\n",
       "      3 : \n",
       "        nn.SpatialMaxPooling(kW: 2, kH: 2, dW: 2, dH: 2)\n",
       "        {\n",
       "         "
      ]
     },
     "execution_count": 33,
     "metadata": {},
     "output_type": "execute_result"
    },
    {
     "data": {
      "text/plain": [
       " dH : 2\n",
       "          dW : 2\n",
       "          kW : 2\n",
       "          gradInput : FloatTensor - size: 10x6x28x28\n",
       "          kH : 2\n",
       "          output : FloatTensor - size: 10x6x14x14\n",
       "          indices : FloatTensor - size: 2x10x6x14x14\n",
       "        }\n",
       "      4 : \n",
       "        nn.SpatialConvolutionMap\n",
       "        {\n",
       "          dH : 1\n",
       "          dW : 1\n",
       "          nInputPlane : 6\n",
       "          kW : 5\n",
       "          gradInput : FloatTensor - size: 10x6x14x14\n",
       "          connTable : FloatTensor - size: 64x2\n",
       "          weight : FloatTensor - size: 64x5x5\n",
       "          output : FloatTensor - size: 10x16x10x10\n",
       "          gradWeight : FloatTensor - size: 64x5x5\n",
       "          kH : 5\n",
       "          nOutputPlane : 16\n",
       "          bias : FloatTensor - size: 16\n",
       "          gradBias : FloatTensor - size: 16\n",
       "       "
      ]
     },
     "execution_count": 33,
     "metadata": {},
     "output_type": "execute_result"
    },
    {
     "data": {
      "text/plain": [
       " }\n",
       "      5 : \n",
       "        nn.ReLU\n",
       "        {\n",
       "          inplace : false\n",
       "          threshold : 0\n",
       "          val : 0\n",
       "          output : FloatTensor - size: 10x16x10x10\n",
       "          gradInput : FloatTensor - size: 10x16x10x10\n",
       "        }\n",
       "      6 : \n",
       "        nn.SpatialMaxPooling(kW: 2, kH: 2, dW: 2, dH: 2)\n",
       "        {\n",
       "          dH : 2\n",
       "          dW : 2\n",
       "          kW : 2\n",
       "          gradInput : FloatTensor - size: 10x16x10x10\n",
       "          kH : 2\n",
       "          output : FloatTensor - size: 10x16x5x5\n",
       "          indices : FloatTensor - size: 2x10x16x5x5\n",
       "        }\n",
       "      7 : \n",
       "        nn.SpatialConvolutionMM(in: 16, out: 120, kW: 5, kH: 5)\n",
       "        {\n",
       "          dH : 1\n",
       "          dW : 1\n",
       "          nOutputPlane : 120\n",
       "          output : FloatTensor - size: 10x120x1x1\n",
       "          gradInput : FloatTensor - size: 10x16x5x5\n"
      ]
     },
     "execution_count": 33,
     "metadata": {},
     "output_type": "execute_result"
    },
    {
     "data": {
      "text/plain": [
       "          finput : FloatTensor - size: 10x400x1\n",
       "          kW : 5\n",
       "          kH : 5\n",
       "          weight : FloatTensor - size: 120x400\n",
       "          nInputPlane : 16\n",
       "          gradWeight : FloatTensor - size: 120x400\n",
       "          padding : 0\n",
       "          bias : FloatTensor - size: 120\n",
       "          gradBias : FloatTensor - size: 120\n",
       "          fgradInput : FloatTensor - size: 10x400x1\n",
       "        }\n",
       "      8 : \n",
       "        nn.Reshape(120)\n",
       "        {\n",
       "          batchsize : LongStorage - size: 2\n",
       "          size : LongStorage - size: 1\n",
       "          output : FloatTensor - size: 10x120\n",
       "          gradInput : FloatTensor - size: 10x120x1x1\n",
       "          nelement : 120\n",
       "          _gradOutput : FloatTensor - empty\n",
       "          _input : FloatTensor - empty\n",
       "        }\n",
       "      9 : \n",
       "        "
      ]
     },
     "execution_count": 33,
     "metadata": {},
     "output_type": "execute_result"
    },
    {
     "data": {
      "text/plain": [
       "nn.Linear(120 -> 84)\n",
       "        {\n",
       "          gradBias : FloatTensor - size: 84\n",
       "          weight : FloatTensor - size: 84x120\n",
       "          bias : FloatTensor - size: 84\n",
       "          gradInput : FloatTensor - size: 10x120\n",
       "          output : FloatTensor - size: 10x84\n",
       "          gradWeight : FloatTensor - size: 84x120\n",
       "          addBuffer : FloatTensor - size: 10\n",
       "        }\n",
       "      10 : \n",
       "        nn.ReLU\n",
       "        {\n",
       "          inplace : false\n",
       "          threshold : 0\n",
       "          val : 0\n",
       "          output : FloatTensor - size: 10x84\n",
       "          gradInput : FloatTensor - size: 10x84\n",
       "        }\n",
       "      11 : \n",
       "        nn.Linear(84 -> 10)\n",
       "        {\n",
       "          gradBias : FloatTensor - size: 10\n",
       "          weight : FloatTensor - size: 10x84\n",
       "       "
      ]
     },
     "execution_count": 33,
     "metadata": {},
     "output_type": "execute_result"
    },
    {
     "data": {
      "text/plain": [
       "   bias : FloatTensor - size: 10\n",
       "          gradInput : FloatTensor - size: 10x84\n",
       "          output : FloatTensor - size: 10x10\n",
       "          gradWeight : FloatTensor - size: 10x84\n",
       "          addBuffer : FloatTensor - size: 10\n",
       "        }\n",
       "      12 : \n",
       "        nn.LogSoftMax\n",
       "        {\n",
       "          gradInput : FloatTensor - size: 10x10\n",
       "          output : FloatTensor - size: 10x10\n",
       "        }\n",
       "    }\n",
       "  output : FloatTensor - size: 10x10\n",
       "}\n"
      ]
     },
     "execution_count": 33,
     "metadata": {},
     "output_type": "execute_result"
    }
   ],
   "source": [
    "-- model with ReLU instead of Tanh\n",
    "model_with_ReLU = torch.load('logs/mnist.net')\n",
    "print(model_with_ReLU)"
   ]
  },
  {
   "cell_type": "code",
   "execution_count": 36,
   "metadata": {
    "collapsed": false
   },
   "outputs": [
    {
     "data": {
      "text/plain": [
       "<trainer> on testing Set:\t\n"
      ]
     },
     "execution_count": 36,
     "metadata": {},
     "output_type": "execute_result"
    },
    {
     "data": {
      "text/plain": [
       "<trainer> time to test 1 sample = 5.4454166173935ms\t\n"
      ]
     },
     "execution_count": 36,
     "metadata": {},
     "output_type": "execute_result"
    },
    {
     "data": {
      "text/plain": [
       "ConfusionMatrix:\n",
       "[[    3895       0       0       0       5       0       3       1      11       5]   99.362% \t[class: 0]\n",
       " [      26    3737       8      12     264       5      15       1     471       1]   82.313% \t[class: 1]\n",
       " [      76      12    3788      29      16       0       7       6     193       1]   91.764% \t[class: 2]\n",
       " [       8       0      13    3847       7      65       1       8      68      23]   95.223% \t[class: 3]\n",
       " [       7       0       1       2    3870       3      13       3       6      23]   98.523% \t[class: 4]\n",
       " [      14       0       0      39       5    3401      22       5      63      19]   95.320% \t[class: 5]\n",
       " [      61       9       2       3      10      26    3703       0      18       0]   96.634% \t[class: 6]\n",
       " [      65      18     155      25     120       8       1    3202     107     411]   77.870% \t[class: 7]\n",
       " [      18       0      12       6      19      29       8       2    3785      17]   97.151% \t[class: 8]\n",
       " [      23       3       3       5     170      18       1       7      58    3748]]  92.864% \t[class: 9]\n",
       " + average row correct: 92.702268958092% \n",
       " + average rowUcol correct (VOC measure): 86.268215179443% \n",
       " + global correct: 92.44%\n",
       "{\n",
       "  valids : FloatTensor - size: 10\n",
       "  mat : FloatTensor - size: 10x10\n",
       "  averageUnionValid : 0.86268215179443\n",
       "  _targ_idx : LongTensor - empty\n",
       "  averageValid : 0.92702268958092\n",
       "  classes : \n",
       "    {\n",
       "      1 : 0\n",
       "      2 : 1\n",
       "      3 : 2\n",
       "      4 : 3\n",
       "      5 : 4\n",
       "      6 : 5\n",
       "      7 : 6\n",
       "      8 : 7\n",
       "      9 : 8\n",
       "      10 : 9\n",
       "    }\n",
       "  _prediction : FloatTensor - size: 10\n",
       "  _pred_idx : LongTensor - size: 1\n",
       "  nclasses : 10\n",
       "  _max : FloatTensor - size: 1\n",
       "  _target : FloatTensor - empty\n",
       "  unionvalids : FloatTensor - size: 10\n",
       "  totalValid : 0.9244\n",
       "}\n",
       "\n"
      ]
     },
     "execution_count": 36,
     "metadata": {},
     "output_type": "execute_result"
    }
   ],
   "source": [
    "test(testData, model_with_ReLU)"
   ]
  },
  {
   "cell_type": "code",
   "execution_count": 11,
   "metadata": {
    "collapsed": false
   },
   "outputs": [
    {
     "data": {
      "text/plain": [
       "nn.Sequential {\n",
       "  [input -> (1) -> (2) -> (3) -> output]\n",
       "  (1): nn.Reshape(1024)\n",
       "  (2): nn.Linear(1024 -> 10)\n",
       "  (3): nn.LogSoftMax\n",
       "}\n",
       "{\n",
       "  gradInput : FloatTensor - size: 10x1x32x32\n",
       "  modules : \n",
       "    {\n",
       "      1 : \n",
       "        nn.Reshape(1024)\n",
       "        {\n",
       "          batchsize : LongStorage - size: 2\n",
       "          size : LongStorage - size: 1\n",
       "          output : FloatTensor - size: 10x1024\n",
       "  "
      ]
     },
     "execution_count": 11,
     "metadata": {},
     "output_type": "execute_result"
    },
    {
     "data": {
      "text/plain": [
       "        gradInput : FloatTensor - size: 10x1x32x32\n",
       "          nelement : 1024\n",
       "          _gradOutput : FloatTensor - empty\n",
       "          _input : FloatTensor - empty\n",
       "        }\n",
       "      2 : \n",
       "        nn.Linear(1024 -> 10)\n",
       "        {\n",
       "          gradBias : FloatTensor - size: 10\n",
       "          weight : FloatTensor - size: 10x1024\n",
       "          bias : FloatTensor - size: 10\n",
       "          gradInput : FloatTensor - size: 10x1024\n",
       "          output : FloatTensor - size: 10x10\n",
       "          gradWeight : FloatTensor - size: 10x1024\n",
       "          addBuffer : FloatTensor - size: 10\n",
       "        }\n",
       "      3 : \n",
       "        nn.LogSoftMax\n",
       "        {\n",
       "          gradInput : FloatTensor - size: 10x10\n",
       "          output : FloatTensor - size: 10x10\n",
       "        }\n",
       "    }\n",
       "  output : FloatTensor - size: 10x10\n",
       "}\n"
      ]
     },
     "execution_count": 11,
     "metadata": {},
     "output_type": "execute_result"
    }
   ],
   "source": [
    "require 'nn'\n",
    "model = torch.load('logs/mnist.net')\n",
    "print(model)"
   ]
  },
  {
   "cell_type": "code",
   "execution_count": null,
   "metadata": {
    "collapsed": true
   },
   "outputs": [],
   "source": []
  },
  {
   "cell_type": "code",
   "execution_count": 12,
   "metadata": {
    "collapsed": false
   },
   "outputs": [
    {
     "data": {
      "text/plain": [
       "<mnist> done\t\n"
      ]
     },
     "execution_count": 12,
     "metadata": {},
     "output_type": "execute_result"
    },
    {
     "data": {
      "text/plain": [
       "<trainer> on testing Set:\t\n"
      ]
     },
     "execution_count": 12,
     "metadata": {},
     "output_type": "execute_result"
    },
    {
     "data": {
      "text/plain": [
       "<trainer> time to test 1 sample = 0.041956281661987ms\t\n"
      ]
     },
     "execution_count": 12,
     "metadata": {},
     "output_type": "execute_result"
    },
    {
     "data": {
      "text/plain": [
       "ConfusionMatrix:\n",
       "[[     968       0       0       1       1       4       3       2       1       0]   98.776% \t[class: 0]\n",
       " [       0    1120       1       4       1       2       4       1       2       0]   98.678% \t[class: 1]\n",
       " [      14      48     740     158       5      13      17       3      24      10]   71.705% \t[class: 2]\n",
       " [       8       2      11     927       1      32       2      10       9       8]   91.782% \t[class: 3]\n",
       " [       2       1       5       1     869       0      12       0      14      78]   88.493% \t[class: 4]\n",
       " [      14       1       1      43      18     767      10       4      26       8]   85.987% \t[class: 5]\n",
       " [      18       5       5       1       6      34     886       2       1       0]   92.484% \t[class: 6]\n",
       " [       4      14      20      24      11       3       0     859       8      85]   83.560% \t[class: 7]\n",
       " [      12      33       6     172      26      44      10       4     636      31]   65.298% \t[class: 8]\n",
       " [       9       8       1      15      19       4       1       7       4     941]]  93.261% \t[class: 9]\n",
       " + average row correct: 87.002399563789% \n",
       " + average rowUcol correct (VOC measure): 77.461580634117% \n",
       " + global correct: 87.13%\n",
       "{\n",
       "  valids : FloatTensor - size: 10\n",
       "  mat : FloatTensor - size: 10x10\n",
       "  averageUnionValid : 0.77461580634117\n",
       "  _targ_idx : LongTensor - empty\n",
       "  averageValid : 0.87002399563789\n",
       "  classes : \n",
       "    {\n",
       "      1 : 0\n",
       "      2 : 1\n",
       "      3 : 2\n",
       "      4 : 3\n",
       "      5 : 4\n",
       "      6 : 5\n",
       "      7 : 6\n",
       "      8 : 7\n",
       "      9 : 8\n",
       "      10 : 9\n",
       "    }\n",
       "  _prediction : FloatTensor - size: 10\n",
       "  _pred_idx : LongTensor - size: 1\n",
       "  nclasses : 10\n",
       "  _max : FloatTensor - size: 1\n",
       "  _target : FloatTensor - empty\n",
       "  unionvalids : FloatTensor - size: 10\n",
       "  totalValid : 0.8713\n",
       "}\n"
      ]
     },
     "execution_count": 12,
     "metadata": {},
     "output_type": "execute_result"
    }
   ],
   "source": [
    "require 'dataset-mnist'\n",
    "testData = mnist.loadTestSet(10000, {32, 32})\n",
    "testData:normalizeGlobal()\n",
    "test(testData, model)"
   ]
  },
  {
   "cell_type": "code",
   "execution_count": null,
   "metadata": {
    "collapsed": true
   },
   "outputs": [],
   "source": []
  },
  {
   "cell_type": "code",
   "execution_count": null,
   "metadata": {
    "collapsed": true
   },
   "outputs": [],
   "source": []
  },
  {
   "cell_type": "code",
   "execution_count": null,
   "metadata": {
    "collapsed": true
   },
   "outputs": [],
   "source": []
  },
  {
   "cell_type": "code",
   "execution_count": null,
   "metadata": {
    "collapsed": true
   },
   "outputs": [],
   "source": []
  },
  {
   "cell_type": "code",
   "execution_count": null,
   "metadata": {
    "collapsed": true
   },
   "outputs": [],
   "source": []
  },
  {
   "cell_type": "code",
   "execution_count": null,
   "metadata": {
    "collapsed": true
   },
   "outputs": [],
   "source": []
  },
  {
   "cell_type": "code",
   "execution_count": null,
   "metadata": {
    "collapsed": true
   },
   "outputs": [],
   "source": []
  },
  {
   "cell_type": "code",
   "execution_count": null,
   "metadata": {
    "collapsed": true
   },
   "outputs": [],
   "source": []
  },
  {
   "cell_type": "code",
   "execution_count": null,
   "metadata": {
    "collapsed": true
   },
   "outputs": [],
   "source": []
  },
  {
   "cell_type": "code",
   "execution_count": null,
   "metadata": {
    "collapsed": true
   },
   "outputs": [],
   "source": []
  },
  {
   "cell_type": "code",
   "execution_count": null,
   "metadata": {
    "collapsed": true
   },
   "outputs": [],
   "source": []
  },
  {
   "cell_type": "code",
   "execution_count": null,
   "metadata": {
    "collapsed": true
   },
   "outputs": [],
   "source": []
  },
  {
   "cell_type": "code",
   "execution_count": null,
   "metadata": {
    "collapsed": true
   },
   "outputs": [],
   "source": []
  },
  {
   "cell_type": "code",
   "execution_count": null,
   "metadata": {
    "collapsed": true
   },
   "outputs": [],
   "source": []
  },
  {
   "cell_type": "code",
   "execution_count": null,
   "metadata": {
    "collapsed": true
   },
   "outputs": [],
   "source": []
  },
  {
   "cell_type": "code",
   "execution_count": null,
   "metadata": {
    "collapsed": true
   },
   "outputs": [],
   "source": []
  },
  {
   "cell_type": "code",
   "execution_count": null,
   "metadata": {
    "collapsed": true
   },
   "outputs": [],
   "source": []
  },
  {
   "cell_type": "code",
   "execution_count": null,
   "metadata": {
    "collapsed": true
   },
   "outputs": [],
   "source": []
  },
  {
   "cell_type": "code",
   "execution_count": null,
   "metadata": {
    "collapsed": true
   },
   "outputs": [],
   "source": []
  },
  {
   "cell_type": "code",
   "execution_count": null,
   "metadata": {
    "collapsed": true
   },
   "outputs": [],
   "source": []
  },
  {
   "cell_type": "code",
   "execution_count": null,
   "metadata": {
    "collapsed": true
   },
   "outputs": [],
   "source": []
  },
  {
   "cell_type": "code",
   "execution_count": null,
   "metadata": {
    "collapsed": true
   },
   "outputs": [],
   "source": []
  },
  {
   "cell_type": "code",
   "execution_count": null,
   "metadata": {
    "collapsed": true
   },
   "outputs": [],
   "source": []
  },
  {
   "cell_type": "code",
   "execution_count": null,
   "metadata": {
    "collapsed": true
   },
   "outputs": [],
   "source": []
  },
  {
   "cell_type": "code",
   "execution_count": null,
   "metadata": {
    "collapsed": true
   },
   "outputs": [],
   "source": []
  },
  {
   "cell_type": "code",
   "execution_count": null,
   "metadata": {
    "collapsed": true
   },
   "outputs": [],
   "source": []
  },
  {
   "cell_type": "code",
   "execution_count": null,
   "metadata": {
    "collapsed": true
   },
   "outputs": [],
   "source": []
  },
  {
   "cell_type": "code",
   "execution_count": null,
   "metadata": {
    "collapsed": true
   },
   "outputs": [],
   "source": []
  },
  {
   "cell_type": "code",
   "execution_count": null,
   "metadata": {
    "collapsed": true
   },
   "outputs": [],
   "source": []
  },
  {
   "cell_type": "code",
   "execution_count": null,
   "metadata": {
    "collapsed": true
   },
   "outputs": [],
   "source": []
  },
  {
   "cell_type": "code",
   "execution_count": null,
   "metadata": {
    "collapsed": true
   },
   "outputs": [],
   "source": []
  },
  {
   "cell_type": "code",
   "execution_count": null,
   "metadata": {
    "collapsed": true
   },
   "outputs": [],
   "source": []
  },
  {
   "cell_type": "code",
   "execution_count": null,
   "metadata": {
    "collapsed": true
   },
   "outputs": [],
   "source": []
  },
  {
   "cell_type": "code",
   "execution_count": null,
   "metadata": {
    "collapsed": true
   },
   "outputs": [],
   "source": []
  },
  {
   "cell_type": "code",
   "execution_count": null,
   "metadata": {
    "collapsed": true
   },
   "outputs": [],
   "source": []
  },
  {
   "cell_type": "code",
   "execution_count": null,
   "metadata": {
    "collapsed": true
   },
   "outputs": [],
   "source": []
  },
  {
   "cell_type": "code",
   "execution_count": null,
   "metadata": {
    "collapsed": true
   },
   "outputs": [],
   "source": []
  },
  {
   "cell_type": "code",
   "execution_count": null,
   "metadata": {
    "collapsed": true
   },
   "outputs": [],
   "source": []
  },
  {
   "cell_type": "code",
   "execution_count": null,
   "metadata": {
    "collapsed": true
   },
   "outputs": [],
   "source": []
  },
  {
   "cell_type": "code",
   "execution_count": null,
   "metadata": {
    "collapsed": false
   },
   "outputs": [],
   "source": []
  },
  {
   "cell_type": "code",
   "execution_count": null,
   "metadata": {
    "collapsed": true
   },
   "outputs": [],
   "source": []
  },
  {
   "cell_type": "code",
   "execution_count": null,
   "metadata": {
    "collapsed": true
   },
   "outputs": [],
   "source": []
  },
  {
   "cell_type": "code",
   "execution_count": null,
   "metadata": {
    "collapsed": true
   },
   "outputs": [],
   "source": []
  },
  {
   "cell_type": "code",
   "execution_count": null,
   "metadata": {
    "collapsed": true
   },
   "outputs": [],
   "source": []
  }
 ],
 "metadata": {
  "kernelspec": {
   "display_name": "iTorch",
   "language": "lua",
   "name": "itorch"
  },
  "language_info": {
   "name": "lua",
   "version": "20100"
  }
 },
 "nbformat": 4,
 "nbformat_minor": 0
}
