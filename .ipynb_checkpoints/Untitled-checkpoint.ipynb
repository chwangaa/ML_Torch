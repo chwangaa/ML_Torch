{
 "cells": [
  {
   "cell_type": "code",
   "execution_count": 1,
   "metadata": {
    "collapsed": false
   },
   "outputs": [
    {
     "data": {
      "image/png": "[encoded data removed]",
      "text/plain": [
       "Console does not support images"
      ]
     },
     "metadata": {
      "image/png": {
       "height": 204,
       "width": 204
      }
     },
     "output_type": "display_data"
    }
   ],
   "source": [
    "require 'torch'\n",
    "require 'image'\n",
    "require 'nn'\n",
    "-- load data\n",
    "mnist = torch.load('mnist.t7/train_32x32.t7', 'ascii')\n",
    "-- some samples\n",
    "itorch.image(mnist.data[{{1, 32}}])"
   ]
  },
  {
   "cell_type": "code",
   "execution_count": 2,
   "metadata": {
    "collapsed": true
   },
   "outputs": [],
   "source": [
    "-- load pre-trained model (trained on the whole dataset size == 60000)\n",
    "model = torch.load('logs/mnist.net')"
   ]
  },
  {
   "cell_type": "code",
   "execution_count": 3,
   "metadata": {
    "collapsed": false
   },
   "outputs": [
    {
     "data": {
      "text/plain": [
       "nn.Sequential {\n",
       "  [input -> (1) -> (2) -> (3) -> (4) -> (5) -> (6) -> (7) -> (8) -> (9) -> (10) -> (11) -> (12) -> output]\n",
       "  (1): nn.SpatialConvolutionMM(in: 1, out: 6, kW: 5, kH: 5)\n",
       "  (2): nn.Tanh\n",
       "  (3): nn.SpatialMaxPooling(kW: 2, kH: 2, dW: 2, dH: 2)\n",
       "  (4): nn.SpatialConvolutionMap\n",
       "  (5): nn.Tanh\n",
       "  (6): nn.SpatialMaxPooling(kW: 2, kH: 2, dW: 2, dH: 2)\n",
       "  (7): nn.SpatialConvolutionMM(in: 16, out: 120, kW: 5, kH: 5)\n",
       "  (8): nn.Reshape(120)\n",
       "  (9): nn.Linear(120 -> 84)\n",
       "  (10): nn.Tanh\n",
       "  (11): nn.Linear(84 -> 10)\n",
       "  (12): nn.LogSoftMax\n",
       "}\n",
       "{\n",
       "  gradInput : FloatTensor - size: 10x1x32x32\n",
       "  modules : \n",
       "    {\n",
       "      1 : \n",
       "        nn.SpatialConvolutionMM(in: 1, out: 6, kW: 5, kH: 5)\n",
       "        {\n",
       "          dH : 1\n",
       "          dW : 1\n",
       "          nOutputPlane : 6\n",
       "          output : FloatTensor - size: 10x6x28x28\n",
       "          gradInput : FloatTensor - size: 10x1x32x32\n",
       "          finput : FloatTensor - size: 10x25x784\n",
       "          kW : 5\n",
       "          kH : 5\n",
       "          weight : FloatTensor - size: 6x25\n",
       "          nInputPlane : 1\n"
      ]
     },
     "execution_count": 3,
     "metadata": {},
     "output_type": "execute_result"
    },
    {
     "data": {
      "text/plain": [
       "          gradWeight : FloatTensor - size: 6x25\n",
       "          padding : 0\n",
       "          bias : FloatTensor - size: 6\n",
       "          gradBias : FloatTensor - size: 6\n",
       "          fgradInput : FloatTensor - size: 10x25x784\n",
       "        }\n",
       "      2 : \n",
       "        nn.Tanh\n",
       "        {\n",
       "          gradInput : FloatTensor - size: 10x6x28x28\n",
       "          output : FloatTensor - size: 10x6x28x28\n",
       "        }\n",
       "     "
      ]
     },
     "execution_count": 3,
     "metadata": {},
     "output_type": "execute_result"
    },
    {
     "data": {
      "text/plain": [
       " 3 : \n",
       "        nn.SpatialMaxPooling(kW: 2, kH: 2, dW: 2, dH: 2)\n",
       "        {\n",
       "          dH : 2\n",
       "          dW : 2\n",
       "          kW : 2\n",
       "          gradInput : FloatTensor - size: 10x6x28x28\n",
       "          kH : 2\n",
       "          output : FloatTensor - size: 10x6x14x14\n",
       "          indices : FloatTensor - size: 2x10x6x14x14\n",
       "        }\n",
       "      4 : \n",
       "        nn.SpatialConvolutionMap\n",
       "        {\n",
       "          dH : 1\n",
       "      "
      ]
     },
     "execution_count": 3,
     "metadata": {},
     "output_type": "execute_result"
    },
    {
     "data": {
      "text/plain": [
       "    dW : 1\n",
       "          nInputPlane : 6\n",
       "          kW : 5\n",
       "          gradInput : FloatTensor - size: 10x6x14x14\n",
       "          connTable : FloatTensor - size: 64x2\n",
       "          weight : FloatTensor - size: 64x5x5\n",
       "          output : FloatTensor - size: 10x16x10x10\n",
       "          gradWeight : FloatTensor - size: 64x5x5\n",
       "          kH : 5\n",
       "          nOutputPlane : 16\n",
       "          bias : FloatTensor - size: 16\n",
       "          gradBias : FloatTensor - size: 16\n",
       "        }\n",
       "   "
      ]
     },
     "execution_count": 3,
     "metadata": {},
     "output_type": "execute_result"
    },
    {
     "data": {
      "text/plain": [
       "   5 : \n",
       "        nn.Tanh\n",
       "        {\n",
       "          gradInput : FloatTensor - size: 10x16x10x10\n"
      ]
     },
     "execution_count": 3,
     "metadata": {},
     "output_type": "execute_result"
    },
    {
     "data": {
      "text/plain": [
       "          output : FloatTensor - size: 10x16x10x10\n",
       "        }\n",
       "      6 : \n",
       "        nn.SpatialMaxPooling(kW: 2, kH: 2, dW: 2, dH: 2)\n",
       "        {\n",
       "          dH : 2\n",
       "          dW : 2\n",
       "          kW : 2\n",
       "          gradInput : FloatTensor - size: 10x16x10x10\n",
       "          kH : 2\n",
       "          output : FloatTensor - size: 10x16x5x5\n",
       "  "
      ]
     },
     "execution_count": 3,
     "metadata": {},
     "output_type": "execute_result"
    },
    {
     "data": {
      "text/plain": [
       "        indices : FloatTensor - size: 2x10x16x5x5\n",
       "        }\n",
       "      7 : \n",
       "        nn.SpatialConvolutionMM(in: 16, out: 120, kW: 5, kH: 5)"
      ]
     },
     "execution_count": 3,
     "metadata": {},
     "output_type": "execute_result"
    },
    {
     "data": {
      "text/plain": [
       "\n",
       "        {\n",
       "          dH : 1\n",
       "          dW : 1\n",
       "          nOutputPlane : 120\n",
       "          "
      ]
     },
     "execution_count": 3,
     "metadata": {},
     "output_type": "execute_result"
    },
    {
     "data": {
      "text/plain": [
       "output : FloatTensor - size: 10x120x1x1\n",
       "          gradInput : FloatTensor - size: 10x16x5x5\n",
       "          finput : FloatTensor - size: 10x400x1\n"
      ]
     },
     "execution_count": 3,
     "metadata": {},
     "output_type": "execute_result"
    },
    {
     "data": {
      "text/plain": [
       "          kW : 5\n",
       "    "
      ]
     },
     "execution_count": 3,
     "metadata": {},
     "output_type": "execute_result"
    },
    {
     "data": {
      "text/plain": [
       "      kH : 5\n"
      ]
     },
     "execution_count": 3,
     "metadata": {},
     "output_type": "execute_result"
    },
    {
     "data": {
      "text/plain": [
       "          weight : FloatTensor - size: 120x400\n",
       "          nInputPlane : 16\n",
       "     "
      ]
     },
     "execution_count": 3,
     "metadata": {},
     "output_type": "execute_result"
    },
    {
     "data": {
      "text/plain": [
       "     gradWeight : FloatTensor - size: 120x400\n",
       "          padding : 0\n",
       "          bias : FloatTensor - size: 120\n",
       "          gradBias : FloatTensor - size: 120\n",
       "          fgradInput : FloatTensor - size: 10x400x1\n",
       "        }\n",
       "      8 : \n",
       "        nn.Reshape(120)\n",
       "        {\n",
       "          batchsize : LongStorage - size: 2\n",
       "          size : LongStorage - size: 1\n",
       "          output : FloatTensor - size: 10x120\n",
       "          gradInput : FloatTensor - size: 10x120x1x1\n",
       "          nelement : 120\n",
       "          _gradOutput : FloatTensor - empty\n",
       "          _input : FloatTensor - empty\n",
       "        }\n",
       "      9 : \n",
       "        nn.Linear(120 -> 84)\n",
       "        {\n",
       "          gradBias : FloatTensor - size: 84\n",
       "          weight : FloatTensor - size: 84x120\n"
      ]
     },
     "execution_count": 3,
     "metadata": {},
     "output_type": "execute_result"
    },
    {
     "data": {
      "text/plain": [
       "          bias : FloatTensor - size: 84\n",
       "          gradInput : FloatTensor - size: 10x120\n",
       "     "
      ]
     },
     "execution_count": 3,
     "metadata": {},
     "output_type": "execute_result"
    },
    {
     "data": {
      "text/plain": [
       "     output : FloatTensor - size: 10x84\n",
       "          gradWeight : FloatTensor - size: 84x120\n",
       "          addBuffer : FloatTensor - size: 10\n",
       "        }\n",
       "      10 : \n",
       "        nn.Tanh\n",
       "        {\n",
       "          gradInput : FloatTensor - size: 10x84\n",
       "          output : FloatTensor - size: 10x84\n",
       "        }\n",
       "      11 : \n",
       "        nn.Linear(84 -> 10)\n",
       "        {\n",
       "          gradBias : FloatTensor - size: 10\n",
       "          weight : FloatTensor - size: 10x84\n",
       "          bias : FloatTensor - size: 10\n",
       "          gradInput : FloatTensor - size: 10x84\n",
       "          output : FloatTensor - size: 10x10\n",
       "          gradWeight : FloatTensor - size: 10x84\n"
      ]
     },
     "execution_count": 3,
     "metadata": {},
     "output_type": "execute_result"
    },
    {
     "data": {
      "text/plain": [
       "          addBuffer : FloatTensor - size: 10\n",
       "        }\n",
       "      12 : \n",
       "        nn.LogSoftMax\n",
       "        {\n",
       "          gradInput : FloatTensor - size: 10x10\n",
       "          output : FloatTensor - size: 10x10\n",
       "        }\n",
       "    }\n",
       "  output : FloatTensor - size: 10x10\n",
       "}\n"
      ]
     },
     "execution_count": 3,
     "metadata": {},
     "output_type": "execute_result"
    }
   ],
   "source": [
    "-- inspect the model layers\n",
    "model"
   ]
  },
  {
   "cell_type": "code",
   "execution_count": 4,
   "metadata": {
    "collapsed": false
   },
   "outputs": [
    {
     "data": {
      "text/plain": [
       "First Convolution Layer\t\n"
      ]
     },
     "execution_count": 4,
     "metadata": {},
     "output_type": "execute_result"
    },
    {
     "ename": "[string \"--visualize the model...\"]:3: torch.FloatTensor has no call operator\nstack traceback:\n\t[C]: in function 'weight'\n\t[string \"--visualize the model...\"]:3: in main chunk\n\t[C]: in function 'xpcall'\n\t/home/tom/torch/install/share/lua/5.1/itorch/main.lua:177: in function </home/tom/torch/install/share/lua/5.1/itorch/main.lua:143>\n\t/home/tom/torch/install/share/lua/5.1/lzmq/poller.lua:75: in function 'poll'\n\t/home/tom/torch/install/share/lua/5.1/lzmq/impl/loop.lua:307: in function 'poll'\n\t/home/tom/torch/install/share/lua/5.1/lzmq/impl/loop.lua:325: in function 'sleep_ex'\n\t/home/tom/torch/install/share/lua/5.1/lzmq/impl/loop.lua:370: in function 'start'\n\t/home/tom/torch/install/share/lua/5.1/itorch/main.lua:344: in main chunk\n\t[C]: in function 'require'\n\t[string \"arg={'/home/tom/.ipython/profile_default/secu...\"]:1: in main chunk",
     "evalue": "",
     "output_type": "error",
     "traceback": [
      "[string \"--visualize the model...\"]:3: torch.FloatTensor has no call operator\nstack traceback:\n\t[C]: in function 'weight'\n\t[string \"--visualize the model...\"]:3: in main chunk\n\t[C]: in function 'xpcall'\n\t/home/tom/torch/install/share/lua/5.1/itorch/main.lua:177: in function </home/tom/torch/install/share/lua/5.1/itorch/main.lua:143>\n\t/home/tom/torch/install/share/lua/5.1/lzmq/poller.lua:75: in function 'poll'\n\t/home/tom/torch/install/share/lua/5.1/lzmq/impl/loop.lua:307: in function 'poll'\n\t/home/tom/torch/install/share/lua/5.1/lzmq/impl/loop.lua:325: in function 'sleep_ex'\n\t/home/tom/torch/install/share/lua/5.1/lzmq/impl/loop.lua:370: in function 'start'\n\t/home/tom/torch/install/share/lua/5.1/itorch/main.lua:344: in main chunk\n\t[C]: in function 'require'\n\t[string \"arg={'/home/tom/.ipython/profile_default/secu...\"]:1: in main chunk"
     ]
    }
   ],
   "source": [
    "--visualize the model\n",
    "print('First Convolution Layer')\n",
    "itorch.image(model:get(1).weight())\n",
    "print('Second Convolution Layer')\n",
    "itorch.image(model:get(4).weight())\n",
    "print('Third Convolution Layer')\n",
    "itorch.image(model:get(7).weight())"
   ]
  },
  {
   "cell_type": "code",
   "execution_count": 5,
   "metadata": {
    "collapsed": false
   },
   "outputs": [
    {
     "data": {
      "image/png": "[encoded data removed]",
      "text/plain": [
       "Console does not support images"
      ]
     },
     "metadata": {
      "image/png": {
       "height": 32,
       "width": 32
      }
     },
     "output_type": "display_data"
    }
   ],
   "source": [
    "-- try a sample inference\n",
    "data = mnist.data[1]\n",
    "-- display the data\n",
    "itorch.image(data)\n",
    "-- run over the convnet\n",
    "data = data:float()\n",
    "objective_matrix = model:forward(data)"
   ]
  },
  {
   "cell_type": "code",
   "execution_count": 6,
   "metadata": {
    "collapsed": false
   },
   "outputs": [
    {
     "data": {
      "text/plain": [
       "-3.4416\n",
       "-5.9049\n",
       "-4.2506\n",
       "-0.5986\n",
       "-7.9177\n",
       "-1.4325\n",
       "-5.2298\n",
       "-6.0692\n",
       "-1.8868\n",
       "-5.7961\n",
       "[torch.FloatTensor of size 10]\n",
       "\n"
      ]
     },
     "execution_count": 6,
     "metadata": {},
     "output_type": "execute_result"
    }
   ],
   "source": [
    "objective_matrix"
   ]
  },
  {
   "cell_type": "code",
   "execution_count": 7,
   "metadata": {
    "collapsed": false,
    "scrolled": true
   },
   "outputs": [
    {
     "data": {
      "image/png": "[encoded data removed]",
      "text/plain": [
       "Console does not support images"
      ]
     },
     "metadata": {
      "image/png": {
       "height": 32,
       "width": 32
      }
     },
     "output_type": "display_data"
    }
   ],
   "source": [
    "-- okay, so wrong. Let's try again\n",
    "data = mnist.data[2]\n",
    "itorch.image(data)\n",
    "data = data:float()\n",
    "objective_matrix = model:forward(data)"
   ]
  },
  {
   "cell_type": "code",
   "execution_count": 8,
   "metadata": {
    "collapsed": false
   },
   "outputs": [
    {
     "data": {
      "text/plain": [
       "-0.1085\n",
       "-9.8448\n",
       "-7.1015\n",
       "-4.6557\n",
       "-8.5787\n",
       "-2.5041\n",
       "-6.1438\n",
       "-7.7309\n",
       "-5.0178\n",
       "-6.7842\n",
       "[torch.FloatTensor of size 10]\n",
       "\n"
      ]
     },
     "execution_count": 8,
     "metadata": {},
     "output_type": "execute_result"
    }
   ],
   "source": [
    "objective_matrix"
   ]
  },
  {
   "cell_type": "code",
   "execution_count": null,
   "metadata": {
    "collapsed": true
   },
   "outputs": [],
   "source": []
  },
  {
   "cell_type": "code",
   "execution_count": 9,
   "metadata": {
    "collapsed": false
   },
   "outputs": [
    {
     "data": {
      "text/plain": [
       "number of incorrect inference: \t1001\t\n"
      ]
     },
     "execution_count": 9,
     "metadata": {},
     "output_type": "execute_result"
    }
   ],
   "source": [
    "dataset = mnist.data\n",
    "labelset = mnist.labels\n",
    "\n",
    "incorrect = {}\n",
    "k = 1\n",
    "\n",
    "for i = 1, 1000 do\n",
    "    image = dataset[i]\n",
    "    label = labelset[i]\n",
    "    prob, target = model:forward(image:float()):max(1)\n",
    "    if target ~= label then\n",
    "        incorrect[k] = image\n",
    "        k = k + 1\n",
    "    end\n",
    "end\n",
    "\n",
    "print(\"number of incorrect inference: \", k)\n"
   ]
  },
  {
   "cell_type": "code",
   "execution_count": 10,
   "metadata": {
    "collapsed": false
   },
   "outputs": [
    {
     "data": {
      "text/plain": [
       "1001\t\n"
      ]
     },
     "execution_count": 10,
     "metadata": {},
     "output_type": "execute_result"
    }
   ],
   "source": [
    "k"
   ]
  },
  {
   "cell_type": "code",
   "execution_count": null,
   "metadata": {
    "collapsed": true
   },
   "outputs": [],
   "source": []
  },
  {
   "cell_type": "code",
   "execution_count": null,
   "metadata": {
    "collapsed": true
   },
   "outputs": [],
   "source": []
  },
  {
   "cell_type": "code",
   "execution_count": null,
   "metadata": {
    "collapsed": true
   },
   "outputs": [],
   "source": []
  },
  {
   "cell_type": "code",
   "execution_count": null,
   "metadata": {
    "collapsed": true
   },
   "outputs": [],
   "source": []
  },
  {
   "cell_type": "code",
   "execution_count": null,
   "metadata": {
    "collapsed": true
   },
   "outputs": [],
   "source": []
  },
  {
   "cell_type": "code",
   "execution_count": null,
   "metadata": {
    "collapsed": true
   },
   "outputs": [],
   "source": []
  },
  {
   "cell_type": "code",
   "execution_count": null,
   "metadata": {
    "collapsed": false
   },
   "outputs": [],
   "source": []
  },
  {
   "cell_type": "code",
   "execution_count": null,
   "metadata": {
    "collapsed": true
   },
   "outputs": [],
   "source": []
  },
  {
   "cell_type": "code",
   "execution_count": null,
   "metadata": {
    "collapsed": true
   },
   "outputs": [],
   "source": []
  },
  {
   "cell_type": "code",
   "execution_count": null,
   "metadata": {
    "collapsed": true
   },
   "outputs": [],
   "source": []
  },
  {
   "cell_type": "code",
   "execution_count": null,
   "metadata": {
    "collapsed": true
   },
   "outputs": [],
   "source": []
  }
 ],
 "metadata": {
  "kernelspec": {
   "display_name": "iTorch",
   "language": "lua",
   "name": "itorch"
  },
  "language_info": {
   "name": "lua",
   "version": "20100"
  }
 },
 "nbformat": 4,
 "nbformat_minor": 0
}
